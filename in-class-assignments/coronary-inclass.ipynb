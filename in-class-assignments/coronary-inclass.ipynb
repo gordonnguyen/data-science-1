{
 "cells": [
  {
   "cell_type": "code",
   "execution_count": null,
   "metadata": {},
   "outputs": [],
   "source": [
    "import pandas as pd\n",
    "import numpy as np\n",
    "from sklearn.model_selection import train_test_split\n",
    "from sklearn.datasets import load_breast_cancer\n",
    "\n",
    "coronary_df = pd.read_csv('framingham_heart_disease.csv')\n",
    "coronary_df = coronary_df.dropna(how='any',axis=0)      # Drop null rows\n",
    "\n",
    "x = coronary_df.drop(columns=['TenYearCHD'])\n",
    "y = coronary_df['TenYearCHD']\n",
    "\n",
    "x_train, x_test, y_train, y_test = train_test_split(\n",
    "    x, y, test_size=0.2, random_state=42)"
   ]
  },
  {
   "cell_type": "code",
   "execution_count": 37,
   "metadata": {},
   "outputs": [],
   "source": [
    "from sklearn.metrics import accuracy_score\n",
    "from sklearn.linear_model import LogisticRegression\n",
    "from logistic_regression import LogisticRegression as CustomLogisticRegression\n",
    "#from data import x_train, x_test, y_train, y_test\n",
    "\n",
    "lr = CustomLogisticRegression()\n",
    "lr.fit(x_train, y_train, epochs=150)"
   ]
  },
  {
   "cell_type": "code",
   "execution_count": 38,
   "metadata": {},
   "outputs": [],
   "source": [
    "def fit(self, x, y, epochs):\n",
    "    x = self._transform_x(x)\n",
    "    y = self._transform_y(y)\n",
    "\n",
    "    self.weights = np.zeros(x.shape[1])\n",
    "    self.bias = 0\n",
    "\n",
    "    for i in range(epochs):\n",
    "        x_dot_weights = np.matmul(self.weights, x.transpose()) + self.bias\n",
    "        pred = self._sigmoid(x_dot_weights)\n",
    "        loss = self.compute_loss(y, pred)\n",
    "        error_w, error_b = self.compute_gradients(x, y, pred)\n",
    "        self.update_model_parameters(error_w, error_b)\n",
    "\n",
    "        pred_to_class = [1 if p > 0.5 else 0 for p in pred]\n",
    "        self.train_accuracies.append(accuracy_score(y, pred_to_class))\n",
    "        self.losses.append(loss)"
   ]
  },
  {
   "cell_type": "code",
   "execution_count": 39,
   "metadata": {},
   "outputs": [],
   "source": [
    "def _sigmoid(self, x):\n",
    "    return np.array([self._sigmoid_function(value) for value in x])\n",
    "\n",
    "def _sigmoid_function(self, x):\n",
    "    if x >= 0:\n",
    "        z = np.exp(-x)\n",
    "        return 1 / (1 + z)\n",
    "    else:\n",
    "        z = np.exp(x)\n",
    "        return z / (1 + z)\n",
    "    "
   ]
  },
  {
   "cell_type": "code",
   "execution_count": 40,
   "metadata": {},
   "outputs": [],
   "source": [
    "def compute_loss(self, y_true, y_pred):\n",
    "    # binary cross entropy\n",
    "    y_zero_loss = y_true * np.log(y_pred + 1e-9)\n",
    "    y_one_loss = (1-y_true) * np.log(1 - y_pred + 1e-9)\n",
    "    return -np.mean(y_zero_loss + y_one_loss)"
   ]
  },
  {
   "cell_type": "code",
   "execution_count": 41,
   "metadata": {},
   "outputs": [],
   "source": [
    "def compute_gradients(self, x, y_true, y_pred):\n",
    "    # derivative of binary cross entropy\n",
    "    difference =  y_pred - y_true\n",
    "    gradient_b = np.mean(difference)\n",
    "    gradients_w = np.matmul(x.transpose(), difference)\n",
    "    gradients_w = np.array([np.mean(grad) for grad in gradients_w])\n",
    "\n",
    "    return gradients_w, gradient_b"
   ]
  },
  {
   "cell_type": "code",
   "execution_count": 42,
   "metadata": {},
   "outputs": [],
   "source": [
    "def update_model_parameters(self, error_w, error_b):\n",
    "    self.weights = self.weights - 0.1 * error_w\n",
    "    self.bias = self.bias - 0.1 * error_b"
   ]
  },
  {
   "cell_type": "code",
   "execution_count": 43,
   "metadata": {},
   "outputs": [
    {
     "name": "stdout",
     "output_type": "stream",
     "text": [
      "0.8333333333333334\n"
     ]
    }
   ],
   "source": [
    "pred = lr.predict(x_test)\n",
    "accuracy = accuracy_score(y_test, pred)\n",
    "print(accuracy)"
   ]
  },
  {
   "cell_type": "code",
   "execution_count": 44,
   "metadata": {},
   "outputs": [],
   "source": [
    "def predict(self, x):\n",
    "    x_dot_weights = np.matmul(x, self.weights.transpose()) + self.bias\n",
    "    probabilities = self._sigmoid(x_dot_weights)\n",
    "    return [1 if p > 0.5 else 0 for p in probabilities]"
   ]
  },
  {
   "cell_type": "code",
   "execution_count": 45,
   "metadata": {},
   "outputs": [
    {
     "name": "stdout",
     "output_type": "stream",
     "text": [
      "0.8360655737704918\n"
     ]
    }
   ],
   "source": [
    "model = LogisticRegression(solver='newton-cg', max_iter=150)\n",
    "model.fit(x_train, y_train)\n",
    "pred2 = model.predict(x_test)\n",
    "accuracy2 = accuracy_score(y_test, pred2)\n",
    "print(accuracy2)"
   ]
  }
 ],
 "metadata": {
  "kernelspec": {
   "display_name": "Python 3",
   "language": "python",
   "name": "python3"
  },
  "language_info": {
   "codemirror_mode": {
    "name": "ipython",
    "version": 3
   },
   "file_extension": ".py",
   "mimetype": "text/x-python",
   "name": "python",
   "nbconvert_exporter": "python",
   "pygments_lexer": "ipython3",
   "version": "3.13.2"
  }
 },
 "nbformat": 4,
 "nbformat_minor": 2
}
