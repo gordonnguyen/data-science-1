{
 "cells": [
  {
   "cell_type": "code",
   "execution_count": null,
   "metadata": {},
   "outputs": [],
   "source": [
    "import pandas as pd\n",
    "import numpy as np\n",
    "import matplotlib.pyplot as plt\n",
    "import sklearn as skl\n",
    "import seaborn as sns \n",
    "import warnings\n",
    "warnings.filterwarnings('ignore')\n",
    "from sklearn.model_selection import cross_val_score\n",
    "from sklearn.neighbors import KNeighborsClassifier\n",
    "from sklearn.model_selection import train_test_split\n",
    "from sklearn.metrics import accuracy_score, precision_score, recall_score"
   ]
  },
  {
   "cell_type": "markdown",
   "metadata": {},
   "source": [
    " 1. Identify what are the data types of each column (Nominal vs Continous). (14 points)\n",
    " Write your answer here\n",
    " • Sex: Male or Female: Nominal\n",
    " • Age: Continuos\n",
    " • cp: Nominal\n",
    " • trestbps: ?\n",
    " • Chol: ?\n",
    " • fbs: ?\n",
    " • restecg: ?\n",
    " • thalach: ?\n",
    " • exang: ?\n",
    " • oldpeak: ?\n",
    " • slope: ?\n",
    " • ca: ? (number of blood vessels)\n",
    " • thal: ?\n",
    " • Target: ?"
   ]
  }
 ],
 "metadata": {
  "kernelspec": {
   "display_name": "Python 3",
   "language": "python",
   "name": "python3"
  },
  "language_info": {
   "name": "python",
   "version": "3.12.6"
  }
 },
 "nbformat": 4,
 "nbformat_minor": 2
}
