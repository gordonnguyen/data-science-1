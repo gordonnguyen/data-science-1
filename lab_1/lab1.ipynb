{
 "cells": [
  {
   "cell_type": "code",
   "execution_count": 42,
   "metadata": {},
   "outputs": [],
   "source": [
    "import numpy as np\n"
   ]
  },
  {
   "cell_type": "code",
   "execution_count": 43,
   "metadata": {},
   "outputs": [
    {
     "name": "stdout",
     "output_type": "stream",
     "text": [
      "[1, 2, 3, 4, 5]\n",
      "<class 'list'>\n"
     ]
    }
   ],
   "source": [
    "py_list = [1,2,3,4,5]\n",
    "print(py_list)\n",
    "print(type(py_list))"
   ]
  },
  {
   "cell_type": "code",
   "execution_count": 44,
   "metadata": {},
   "outputs": [
    {
     "name": "stdout",
     "output_type": "stream",
     "text": [
      "[1 2 3 4 5]\n",
      "<class 'numpy.ndarray'>\n"
     ]
    }
   ],
   "source": [
    "np_array = np.array(py_list)\n",
    "print(np_array)\n",
    "print(type(np_array))"
   ]
  },
  {
   "cell_type": "code",
   "execution_count": 45,
   "metadata": {},
   "outputs": [
    {
     "name": "stdout",
     "output_type": "stream",
     "text": [
      "[[5, 1, 6, 7, 2], [1, 7, 5, 3, 9], [9, 8, 0, 1, 4]]\n",
      "<class 'list'>\n"
     ]
    }
   ],
   "source": [
    "python_2d_array = [[5,1,6,7,2], [1,7,5,3,9], [9,8,0,1,4]]\n",
    "print(python_2d_array)\n",
    "print(type(python_2d_array))\n"
   ]
  },
  {
   "cell_type": "code",
   "execution_count": 46,
   "metadata": {},
   "outputs": [
    {
     "name": "stdout",
     "output_type": "stream",
     "text": [
      "[[5 1 6 7 2]\n",
      " [1 7 5 3 9]\n",
      " [9 8 0 1 4]]\n",
      "<class 'numpy.ndarray'>\n"
     ]
    }
   ],
   "source": [
    "np_2d_array = np.array(python_2d_array)\n",
    "print(np_2d_array)\n",
    "print(type(np_2d_array))"
   ]
  },
  {
   "cell_type": "code",
   "execution_count": 47,
   "metadata": {},
   "outputs": [
    {
     "name": "stdout",
     "output_type": "stream",
     "text": [
      "[ 0  2  4  6  8 10 12 14]\n"
     ]
    }
   ],
   "source": [
    "step_array = np.arange(0, 15, 2)\n",
    "print(step_array)\n"
   ]
  },
  {
   "cell_type": "code",
   "execution_count": 48,
   "metadata": {},
   "outputs": [
    {
     "name": "stdout",
     "output_type": "stream",
     "text": [
      "[[ 0  1  2]\n",
      " [ 3  4  5]\n",
      " [ 6  7  8]\n",
      " [ 9 10 11]\n",
      " [12 13 14]]\n"
     ]
    }
   ],
   "source": [
    "step_array_2d = np.arange(0, 15).reshape(5, 3)\n",
    "print(step_array_2d)"
   ]
  },
  {
   "cell_type": "code",
   "execution_count": 49,
   "metadata": {},
   "outputs": [
    {
     "name": "stdout",
     "output_type": "stream",
     "text": [
      "[0. 0. 0. 0. 0. 0. 0. 0. 0. 0. 0. 0. 0. 0. 0.]\n",
      "[[0. 0. 0. 0. 0.]\n",
      " [0. 0. 0. 0. 0.]\n",
      " [0. 0. 0. 0. 0.]]\n",
      "[1. 1. 1. 1. 1. 1. 1. 1. 1. 1. 1. 1. 1. 1. 1.]\n",
      "[[1. 1. 1. 1. 1.]\n",
      " [1. 1. 1. 1. 1.]\n",
      " [1. 1. 1. 1. 1.]]\n"
     ]
    }
   ],
   "source": [
    "zero_array = np.zeros(15)\n",
    "print(zero_array)\n",
    "\n",
    "zero_array_2d = np.zeros(15).reshape(3,5)\n",
    "print(zero_array_2d)\n",
    "\n",
    "ones_array = np.ones(15)\n",
    "print(ones_array)\n",
    "\n",
    "ones_array_2d = np.ones(15).reshape(3,5)\n",
    "print(ones_array_2d)"
   ]
  },
  {
   "cell_type": "code",
   "execution_count": 50,
   "metadata": {},
   "outputs": [
    {
     "name": "stdout",
     "output_type": "stream",
     "text": [
      "[[0 0 0]\n",
      " [0 0 0]\n",
      " [0 0 0]]\n"
     ]
    }
   ],
   "source": [
    "zeroint_array_2d = np.zeros(9, dtype=int).reshape(3,3)\n",
    "print(zeroint_array_2d)"
   ]
  },
  {
   "cell_type": "code",
   "execution_count": 51,
   "metadata": {},
   "outputs": [
    {
     "name": "stdout",
     "output_type": "stream",
     "text": [
      "[[1. 0. 0. 0. 0.]\n",
      " [0. 1. 0. 0. 0.]\n",
      " [0. 0. 1. 0. 0.]\n",
      " [0. 0. 0. 1. 0.]\n",
      " [0. 0. 0. 0. 1.]]\n"
     ]
    }
   ],
   "source": [
    "id_matrix_array = np.eye(5)\n",
    "print(id_matrix_array)"
   ]
  },
  {
   "cell_type": "code",
   "execution_count": 52,
   "metadata": {},
   "outputs": [
    {
     "name": "stdout",
     "output_type": "stream",
     "text": [
      "[[79 19  6 98 23]\n",
      " [38 90 72  9 81]\n",
      " [78 39 25  7 84]\n",
      " [44  7 81 78 31]]\n",
      "The smallest value in A is 6, and is a located at position 2\n",
      "The largest value in A is 98, and is a located at position 3\n"
     ]
    }
   ],
   "source": [
    "A = np.random.randint(0, 100, 20).reshape(4, 5)\n",
    "print(A)\n",
    "\n",
    "print(f'The smallest value in A is {A.min()}, and is a located at position {A.argmin()}')\n",
    "print(f'The largest value in A is {A.max()}, and is a located at position {A.argmax()}')"
   ]
  },
  {
   "cell_type": "code",
   "execution_count": 53,
   "metadata": {},
   "outputs": [
    {
     "name": "stdout",
     "output_type": "stream",
     "text": [
      "A: [ 1  2  3  4  5  6  7  8  9 10 11 12 13 14 15]\n",
      "B: [ 1  3  5  7  9 11 13 15 17 19 21 23 25 27 29]\n",
      "C:\n",
      "[[0 1]\n",
      " [2 3]]\n",
      "D:\n",
      "[[0 1]\n",
      " [2 3]]\n",
      "E:\n",
      "[[ 1  2  3  4  5]\n",
      " [ 6  7  8  9 10]\n",
      " [11 12 13 14 15]]\n",
      "F: [ 0  1  2  3  4  5  6  7  8  9 10]\n"
     ]
    }
   ],
   "source": [
    "A = np.arange(1, 16)\n",
    "B = np.arange(1, 30, 2)\n",
    "C = np.arange(0, 4).reshape(2, 2)\n",
    "D = np.arange(0, 4).reshape(2, 2)\n",
    "E = np.arange(1, 16).reshape(3, 5)\n",
    "F = np.arange(11)\n",
    "print(f'A: {A}')\n",
    "print(f'B: {B}')\n",
    "print('C:')\n",
    "print(C)\n",
    "print('D:')\n",
    "print(D)\n",
    "print('E:')\n",
    "print(E)\n",
    "print(f'F: {F}')"
   ]
  },
  {
   "cell_type": "code",
   "execution_count": 54,
   "metadata": {},
   "outputs": [
    {
     "name": "stdout",
     "output_type": "stream",
     "text": [
      "[ 2  5  8 11 14 17 20 23 26 29 32 35 38 41 44]\n",
      "[-4 -3 -2 -1  0  1  2  3  4  5  6  7  8  9 10]\n",
      "[  0  -1  -2  -3  -4  -5  -6  -7  -8  -9 -10 -11 -12 -13 -14]\n",
      "[-4 -3 -2 -1  0  1  2  3  4  5  6  7  8  9 10]\n",
      "[  1   6  15  28  45  66  91 120 153 190 231 276 325 378 435]\n",
      "[ 5 10 15 20 25 30 35 40 45 50 55 60 65 70 75]\n",
      "[1.         1.5        1.66666667 1.75       1.8        1.83333333\n",
      " 1.85714286 1.875      1.88888889 1.9        1.90909091 1.91666667\n",
      " 1.92307692 1.92857143 1.93333333]\n",
      "[0.5 1.  1.5 2.  2.5 3.  3.5 4.  4.5 5.  5.5 6.  6.5 7.  7.5]\n"
     ]
    }
   ],
   "source": [
    "A_B = A + B\n",
    "print(A_B)\n",
    "print(A-5)\n",
    "print(A-B)\n",
    "print(A-5)\n",
    "print(A*B)\n",
    "print(A*5)\n",
    "print(B/A)\n",
    "print(A/2)\n",
    "\n",
    "\n",
    "\n"
   ]
  },
  {
   "cell_type": "code",
   "execution_count": 55,
   "metadata": {},
   "outputs": [
    {
     "name": "stdout",
     "output_type": "stream",
     "text": [
      "[  0 100   2 300   4 500   6 700   8 900  10]\n",
      "this happens because if the number is even then the function replace it with the same value\n"
     ]
    }
   ],
   "source": [
    "print(np.where(F%2==0, F, F*100))\n",
    "print(\"this happens because if the number is even then the function replace it with the same value\")"
   ]
  },
  {
   "cell_type": "code",
   "execution_count": 56,
   "metadata": {},
   "outputs": [
    {
     "name": "stdout",
     "output_type": "stream",
     "text": [
      "A[0]: 1\n",
      "A[5]: 6\n",
      "A[14]: 15\n"
     ]
    }
   ],
   "source": [
    "print(f'A[0]: {A[0]}')\n",
    "print(f'A[5]: {A[5]}')\n",
    "print(f'A[14]: {A[14]}')"
   ]
  },
  {
   "cell_type": "code",
   "execution_count": 57,
   "metadata": {},
   "outputs": [
    {
     "data": {
      "text/plain": [
       "array([ 0,  0,  0,  0,  0,  6,  7,  8,  9, 10, 11, 12, 13, 14, 15])"
      ]
     },
     "execution_count": 57,
     "metadata": {},
     "output_type": "execute_result"
    }
   ],
   "source": [
    "A[0:5] = 0\n",
    "A"
   ]
  },
  {
   "cell_type": "code",
   "execution_count": 58,
   "metadata": {},
   "outputs": [
    {
     "name": "stdout",
     "output_type": "stream",
     "text": [
      "0th row and 2nd col in B: 2\n",
      "3rd row and 3rd col in B: 33\n",
      "4th row and 2nd col in B: 42\n"
     ]
    }
   ],
   "source": [
    "B = np.arange(50).reshape(5, 10)\n",
    "B\n",
    "\n",
    "print(f'0th row and 2nd col in B: {B[0, 2]}')\n",
    "print(f'3rd row and 3rd col in B: {B[3, 3]}')\n",
    "print(f'4th row and 2nd col in B: {B[4, 2]}')\n"
   ]
  },
  {
   "cell_type": "code",
   "execution_count": 59,
   "metadata": {},
   "outputs": [
    {
     "data": {
      "text/plain": [
       "array([[ 5,  6],\n",
       "       [15, 16]])"
      ]
     },
     "execution_count": 59,
     "metadata": {},
     "output_type": "execute_result"
    }
   ],
   "source": [
    "B[0:2, 5:7]"
   ]
  },
  {
   "cell_type": "code",
   "execution_count": 60,
   "metadata": {},
   "outputs": [
    {
     "name": "stdout",
     "output_type": "stream",
     "text": [
      "[[ True False False  True False]\n",
      " [False  True False False  True]\n",
      " [False False  True False False]\n",
      " [ True False False  True False]\n",
      " [False  True False False  True]\n",
      " [False False  True False False]\n",
      " [ True False False  True False]\n",
      " [False  True False False  True]\n",
      " [False False  True False False]\n",
      " [ True False False  True False]]\n",
      "17\n"
     ]
    }
   ],
   "source": [
    "C = np.arange(50).reshape(10, 5)\n",
    "\n",
    "print(C%3 == 0)\n",
    "\n",
    "print((C%3 == 0).sum())"
   ]
  }
 ],
 "metadata": {
  "kernelspec": {
   "display_name": "Python 3",
   "language": "python",
   "name": "python3"
  },
  "language_info": {
   "codemirror_mode": {
    "name": "ipython",
    "version": 3
   },
   "file_extension": ".py",
   "mimetype": "text/x-python",
   "name": "python",
   "nbconvert_exporter": "python",
   "pygments_lexer": "ipython3",
   "version": "3.12.6"
  }
 },
 "nbformat": 4,
 "nbformat_minor": 2
}
