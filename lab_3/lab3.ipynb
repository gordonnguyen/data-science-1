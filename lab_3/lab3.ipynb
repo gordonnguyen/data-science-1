{
 "cells": [
  {
   "cell_type": "code",
   "execution_count": 1,
   "metadata": {},
   "outputs": [],
   "source": [
    "import pandas as pd\n",
    "import numpy as np\n",
    "import matplotlib.pyplot as plt\n",
    "from sklearn.tree import DecisionTreeClassifier\n",
    "from sklearn.model_selection import train_test_split\n",
    "from sklearn.metrics import accuracy_score, precision_score, recall_score\n",
    "import math\n",
    "from sklearn import tree\n",
    "import matplotlib.pyplot as plt"
   ]
  },
  {
   "cell_type": "markdown",
   "metadata": {},
   "source": [
    " 1. Read the data first and look at the first 5 rows. Check if there are any missing values or not (3 points)"
   ]
  },
  {
   "cell_type": "code",
   "execution_count": 7,
   "metadata": {},
   "outputs": [
    {
     "name": "stdout",
     "output_type": "stream",
     "text": [
      "   age  likes_dog  likes_gravity  going_to_be_an_astronaut\n",
      "0   24          0              0                         0\n",
      "1   30          1              1                         1\n",
      "2   36          0              1                         1\n",
      "3   36          0              0                         0\n",
      "4   42          0              0                         0\n",
      "Is there null values:  False\n"
     ]
    }
   ],
   "source": [
    "df = pd.read_csv('lab3_dataset.csv')\n",
    "print(df.head())\n",
    "\n",
    "print('Is there null values: ', df.isnull().values.any())"
   ]
  },
  {
   "cell_type": "markdown",
   "metadata": {},
   "source": [
    " 2. Split the data using sklearn's train_test_split(X, y, test_size) function. This function takes in your features (X), the target variable (y), and\n",
    " the test_size you'd like. We will train our model on the training set and then use the test set to evaluate the model for different criterions.\n",
    " Use 20% of the data as test size. Use random state=5. Use all the predictors as features to predict the target variable (going to be an\n",
    " astronaut). (5 points)"
   ]
  },
  {
   "cell_type": "code",
   "execution_count": 8,
   "metadata": {},
   "outputs": [
    {
     "name": "stdout",
     "output_type": "stream",
     "text": [
      "    age  likes_dog  likes_gravity\n",
      "0    24          0              0\n",
      "1    30          1              1\n",
      "2    36          0              1\n",
      "3    36          0              0\n",
      "4    42          0              0\n",
      "5    44          1              1\n",
      "6    46          1              0\n",
      "7    47          1              1\n",
      "8    47          0              1\n",
      "9    51          1              1\n",
      "10   25          1              1\n",
      "11   29          0              0\n",
      "12   32          1              1\n",
      "13   38          1              0\n",
      "14   40          0              1\n",
      "15   41          0              0\n",
      "16   48          1              0\n",
      "17   50          0              1\n",
      "18   53          1              1\n",
      "19   54          1              0\n",
      "20   57          0              1\n",
      "21   59          1              1\n",
      "22   60          0              0\n",
      "23   63          1              1\n",
      "24   65          0              0\n",
      "25   67          1              0\n",
      "26   69          0              1\n",
      "27   72          1              0\n",
      "28   11          1              0\n",
      "29   22          0              1\n",
      "30   99          1              0 0     0\n",
      "1     1\n",
      "2     1\n",
      "3     0\n",
      "4     0\n",
      "5     1\n",
      "6     0\n",
      "7     1\n",
      "8     0\n",
      "9     1\n",
      "10    1\n",
      "11    0\n",
      "12    0\n",
      "13    1\n",
      "14    0\n",
      "15    1\n",
      "16    1\n",
      "17    1\n",
      "18    0\n",
      "19    0\n",
      "20    1\n",
      "21    0\n",
      "22    0\n",
      "23    1\n",
      "24    1\n",
      "25    1\n",
      "26    1\n",
      "27    1\n",
      "28    1\n",
      "29    1\n",
      "30    1\n",
      "Name: going_to_be_an_astronaut, dtype: int64\n"
     ]
    }
   ],
   "source": [
    "from sklearn.model_selection import train_test_split\n",
    "\n",
    "X = df.drop('going_to_be_an_astronaut', axis=1)\n",
    "y = df['going_to_be_an_astronaut']\n",
    "print(X, y)\n",
    "\n",
    "X_train, X_test, y_train, y_test = train_test_split(X,y, test_size=0.2, random_state=5)"
   ]
  },
  {
   "cell_type": "markdown",
   "metadata": {},
   "source": [
    "3. Now use the gini criterion to fit the data to the training set. Continue with random state=5, with max_depth=4. Then predict on the testing\n",
    " set. (5 points)"
   ]
  },
  {
   "cell_type": "code",
   "execution_count": 12,
   "metadata": {},
   "outputs": [],
   "source": [
    "from sklearn.tree import DecisionTreeClassifier\n",
    "\n",
    "clf_gini = DecisionTreeClassifier(criterion='gini', random_state=5, max_depth=4)\n",
    "\n",
    "clf_gini.fit(X_train, y_train)\n",
    "\n",
    "y_pred_gini = clf_gini.predict(X_test)"
   ]
  },
  {
   "cell_type": "markdown",
   "metadata": {},
   "source": [
    " 4. Evaluate the accuracy, precision and recall for the model. Explain the findings. (10 points)"
   ]
  },
  {
   "cell_type": "code",
   "execution_count": 21,
   "metadata": {},
   "outputs": [
    {
     "name": "stdout",
     "output_type": "stream",
     "text": [
      "accuracy score: 0.5714\n",
      "recall score: 0.5714\n",
      "Precision score: 1.0000\n"
     ]
    }
   ],
   "source": [
    "from sklearn.metrics import accuracy_score, classification_report\n",
    "\n",
    "print('accuracy score: {0:0.4f}'.format(accuracy_score(y_test, y_pred_gini)))\n",
    "print('recall score: {0:0.4f}'.format(recall_score(y_test, y_pred_gini)))\n",
    "print('Precision score: {0:0.4f}'.format(precision_score(y_test, y_pred_gini)))"
   ]
  },
  {
   "cell_type": "markdown",
   "metadata": {},
   "source": [
    "5. Now use the Entropy criterion to fit the data to the training set. Continue with random state=5, with max_depth=5. Then predict on the\n",
    " testing set. (2 points)"
   ]
  },
  {
   "cell_type": "code",
   "execution_count": 24,
   "metadata": {},
   "outputs": [],
   "source": [
    "clf_entropy = DecisionTreeClassifier(criterion='entropy', random_state=5, max_depth=5)\n",
    "clf_entropy.fit(X_train, y_train)\n",
    "\n",
    "y_pred_entropy = clf_entropy.predict(X_test)"
   ]
  },
  {
   "cell_type": "markdown",
   "metadata": {},
   "source": [
    "6. Evaluate the accuracy, precision and recall for the model. Explain the findings. (10 points)"
   ]
  },
  {
   "cell_type": "code",
   "execution_count": 25,
   "metadata": {},
   "outputs": [
    {
     "name": "stdout",
     "output_type": "stream",
     "text": [
      "accuracy score: 0.2857\n",
      "recall score: 0.2857\n",
      "Precision score: 1.0000\n"
     ]
    }
   ],
   "source": [
    "print('accuracy score: {0:0.4f}'.format(accuracy_score(y_test, y_pred_entropy)))\n",
    "print('recall score: {0:0.4f}'.format(recall_score(y_test, y_pred_entropy)))\n",
    "print('Precision score: {0:0.4f}'.format(precision_score(y_test, y_pred_entropy)))"
   ]
  },
  {
   "cell_type": "markdown",
   "metadata": {},
   "source": [
    "7. Which criteria gives the highest accuracy,precision and recall? Explain why that might be the case. (5 points)\n",
    "\n",
    "Gini gives the highest accuracy, recall. Precision score are the same for both of them. "
   ]
  },
  {
   "cell_type": "markdown",
   "metadata": {},
   "source": [
    " 8. Plot the tree for both the gini and entropy function Use class_names 'No' and 'Yes'. (5 points)"
   ]
  },
  {
   "cell_type": "markdown",
   "metadata": {},
   "source": [
    " 9. Using the model which gives the highest accuracy: Given an individual of age 33, and that they like dogs but do not love gravity, will they\n",
    " become an astronaut or not? (10 points)"
   ]
  },
  {
   "cell_type": "markdown",
   "metadata": {},
   "source": [
    "10. Find the best max_depth (from 1 to 21) in Decision Tree for entopy and Gini. If both depths are different, explain why. (10 points)"
   ]
  },
  {
   "cell_type": "markdown",
   "metadata": {},
   "source": [
    " 11. Calculate the root's entropy. Hint: look at the example in lecture slides. (10 points)"
   ]
  },
  {
   "cell_type": "markdown",
   "metadata": {},
   "source": [
    "12. Split based on likes_dog and going_to_be_an_astronaut. Hint: You can use a pivot table. Look at the slides in lecture (5 points)."
   ]
  },
  {
   "cell_type": "markdown",
   "metadata": {},
   "source": [
    "13. Calculate the entropy for liking dogs vs not liking dogs. Then find the Information Gain. Explain your findings (20 points)."
   ]
  }
 ],
 "metadata": {
  "kernelspec": {
   "display_name": "Python 3",
   "language": "python",
   "name": "python3"
  },
  "language_info": {
   "codemirror_mode": {
    "name": "ipython",
    "version": 3
   },
   "file_extension": ".py",
   "mimetype": "text/x-python",
   "name": "python",
   "nbconvert_exporter": "python",
   "pygments_lexer": "ipython3",
   "version": "3.12.6"
  }
 },
 "nbformat": 4,
 "nbformat_minor": 2
}
